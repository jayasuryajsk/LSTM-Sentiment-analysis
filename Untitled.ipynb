{
 "cells": [
  {
   "cell_type": "code",
   "execution_count": 4,
   "metadata": {},
   "outputs": [],
   "source": [
    "import os\n",
    "import numpy as np\n",
    "from keras.models import Sequential\n",
    "from keras.layers import Activation, Dropout, Flatten, Dense\n",
    "from keras.preprocessing.image import ImageDataGenerator\n",
    "from keras.layers import Convolution2D, MaxPooling2D, ZeroPadding2D\n"
   ]
  },
  {
   "cell_type": "code",
   "execution_count": 5,
   "metadata": {},
   "outputs": [],
   "source": [
    "image_width,image_height = 150,150\n",
    "train_data = 'data/train'\n",
    "validation_data = 'data/validation'"
   ]
  },
  {
   "cell_type": "code",
   "execution_count": 8,
   "metadata": {},
   "outputs": [
    {
     "name": "stdout",
     "output_type": "stream",
     "text": [
      "Found 2048 images belonging to 2 classes.\n",
      "Found 832 images belonging to 2 classes.\n"
     ]
    }
   ],
   "source": [
    "datagen = ImageDataGenerator(rescale=1./255)\n",
    "\n",
    "train_generator = datagen.flow_from_directory(train_data,target_size=(image_height,image_width),batch_size=16,class_mode='binary')\n",
    "validation_generator = datagen.flow_from_directory(validation_data,target_size=(image_width,image_height),batch_size=32,class_mode='binary')"
   ]
  },
  {
   "cell_type": "code",
   "execution_count": 10,
   "metadata": {},
   "outputs": [
    {
     "name": "stderr",
     "output_type": "stream",
     "text": [
      "/usr/lib/python3/dist-packages/ipykernel_launcher.py:2: UserWarning: Update your `Conv2D` call to the Keras 2 API: `Conv2D(32, (3, 3), input_shape=(150, 150,...)`\n",
      "  \n"
     ]
    }
   ],
   "source": [
    "model = Sequential()\n",
    "model.add(Convolution2D(32,3,3, input_shape=(image_height, image_width,3)))\n",
    "model.add(Activation('relu'))\n",
    "model.add(MaxPooling2D(pool_size=(2,2)))\n",
    "\n",
    "model.add(Activation('relu'))\n",
    "model.add(MaxPooling2D(pool_size=(2,2)))\n",
    "\n",
    "model.add(Activation('relu'))\n",
    "model.add(MaxPooling2D(pool_size=(2,2)))\n",
    "\n",
    "model.add(Flatten())\n",
    "model.add(Dense(64))\n",
    "model.add(Activation('relu'))\n",
    "model.add(Dropout(0.5))\n",
    "model.add(Dense(1))\n",
    "model.add(Activation('sigmoid'))\n",
    "\n"
   ]
  },
  {
   "cell_type": "code",
   "execution_count": 11,
   "metadata": {},
   "outputs": [],
   "source": [
    "model.compile(loss='binary_crossentropy',optimizer='rmsprop',metrics=['accuracy'])\n"
   ]
  },
  {
   "cell_type": "code",
   "execution_count": 12,
   "metadata": {},
   "outputs": [],
   "source": [
    "nb_epoch = 30\n",
    "nb_train_samples = 2048\n",
    "nb_validation_samples = 832\n"
   ]
  },
  {
   "cell_type": "code",
   "execution_count": 14,
   "metadata": {},
   "outputs": [
    {
     "name": "stderr",
     "output_type": "stream",
     "text": [
      "/usr/lib/python3/dist-packages/ipykernel_launcher.py:1: UserWarning: The semantics of the Keras 2 argument `steps_per_epoch` is not the same as the Keras 1 argument `samples_per_epoch`. `steps_per_epoch` is the number of batches to draw from the generator at each epoch. Basically steps_per_epoch = samples_per_epoch/batch_size. Similarly `nb_val_samples`->`validation_steps` and `val_samples`->`steps` arguments have changed. Update your method calls accordingly.\n",
      "  \"\"\"Entry point for launching an IPython kernel.\n",
      "/usr/lib/python3/dist-packages/ipykernel_launcher.py:1: UserWarning: Update your `fit_generator` call to the Keras 2 API: `fit_generator(<keras.pre..., validation_data=<keras.pre..., steps_per_epoch=128, epochs=30, validation_steps=832)`\n",
      "  \"\"\"Entry point for launching an IPython kernel.\n"
     ]
    },
    {
     "name": "stdout",
     "output_type": "stream",
     "text": [
      "Epoch 1/30\n",
      "128/128 [==============================] - 227s 2s/step - loss: 0.6181 - acc: 0.6660 - val_loss: 0.5945 - val_acc: 0.7115\n",
      "Epoch 2/30\n",
      "128/128 [==============================] - 227s 2s/step - loss: 0.5636 - acc: 0.7241 - val_loss: 0.5652 - val_acc: 0.7260\n",
      "Epoch 3/30\n",
      "128/128 [==============================] - 231s 2s/step - loss: 0.5249 - acc: 0.7471 - val_loss: 0.5749 - val_acc: 0.6851\n",
      "Epoch 4/30\n",
      "128/128 [==============================] - 228s 2s/step - loss: 0.4740 - acc: 0.7852 - val_loss: 0.5815 - val_acc: 0.7019\n",
      "Epoch 5/30\n",
      "128/128 [==============================] - 227s 2s/step - loss: 0.4308 - acc: 0.8042 - val_loss: 0.5954 - val_acc: 0.7248\n",
      "Epoch 6/30\n",
      "128/128 [==============================] - 227s 2s/step - loss: 0.4074 - acc: 0.8247 - val_loss: 0.5598 - val_acc: 0.7332\n",
      "Epoch 7/30\n",
      "128/128 [==============================] - 228s 2s/step - loss: 0.3697 - acc: 0.8394 - val_loss: 0.5984 - val_acc: 0.7103\n",
      "Epoch 8/30\n",
      "128/128 [==============================] - 227s 2s/step - loss: 0.3256 - acc: 0.8618 - val_loss: 0.6136 - val_acc: 0.7356\n",
      "Epoch 9/30\n",
      "128/128 [==============================] - 228s 2s/step - loss: 0.3096 - acc: 0.8789 - val_loss: 0.6310 - val_acc: 0.7440\n",
      "Epoch 10/30\n",
      "128/128 [==============================] - 229s 2s/step - loss: 0.2796 - acc: 0.8848 - val_loss: 0.6317 - val_acc: 0.7284\n",
      "Epoch 11/30\n",
      "128/128 [==============================] - 228s 2s/step - loss: 0.2472 - acc: 0.8979 - val_loss: 0.6821 - val_acc: 0.7151\n",
      "Epoch 12/30\n",
      "128/128 [==============================] - 230s 2s/step - loss: 0.2212 - acc: 0.9146 - val_loss: 0.7232 - val_acc: 0.7308\n",
      "Epoch 13/30\n",
      "128/128 [==============================] - 229s 2s/step - loss: 0.2054 - acc: 0.9180 - val_loss: 0.7032 - val_acc: 0.7296\n",
      "Epoch 14/30\n",
      "128/128 [==============================] - 229s 2s/step - loss: 0.1868 - acc: 0.9277 - val_loss: 0.7299 - val_acc: 0.7284\n",
      "Epoch 15/30\n",
      "128/128 [==============================] - 228s 2s/step - loss: 0.1643 - acc: 0.9375 - val_loss: 0.8519 - val_acc: 0.7200\n",
      "Epoch 16/30\n",
      "128/128 [==============================] - 229s 2s/step - loss: 0.1461 - acc: 0.9438 - val_loss: 1.0204 - val_acc: 0.7163\n",
      "Epoch 17/30\n",
      "128/128 [==============================] - 229s 2s/step - loss: 0.1330 - acc: 0.9531 - val_loss: 0.9119 - val_acc: 0.7284\n",
      "Epoch 18/30\n",
      "128/128 [==============================] - 229s 2s/step - loss: 0.1194 - acc: 0.9531 - val_loss: 0.9542 - val_acc: 0.7236\n",
      "Epoch 19/30\n",
      "128/128 [==============================] - 229s 2s/step - loss: 0.1048 - acc: 0.9673 - val_loss: 1.0577 - val_acc: 0.7139\n",
      "Epoch 20/30\n",
      "128/128 [==============================] - 229s 2s/step - loss: 0.1110 - acc: 0.9629 - val_loss: 1.0725 - val_acc: 0.7151\n",
      "Epoch 21/30\n",
      "128/128 [==============================] - 229s 2s/step - loss: 0.0887 - acc: 0.9712 - val_loss: 1.1034 - val_acc: 0.7356\n",
      "Epoch 22/30\n",
      "128/128 [==============================] - 229s 2s/step - loss: 0.0939 - acc: 0.9644 - val_loss: 1.0498 - val_acc: 0.7212\n",
      "Epoch 23/30\n",
      "128/128 [==============================] - 232s 2s/step - loss: 0.0905 - acc: 0.9712 - val_loss: 1.2748 - val_acc: 0.7236\n",
      "Epoch 24/30\n",
      "128/128 [==============================] - 229s 2s/step - loss: 0.0760 - acc: 0.9780 - val_loss: 1.2863 - val_acc: 0.7272\n",
      "Epoch 25/30\n",
      "128/128 [==============================] - 229s 2s/step - loss: 0.0735 - acc: 0.9746 - val_loss: 1.5610 - val_acc: 0.7007\n",
      "Epoch 26/30\n",
      "128/128 [==============================] - 229s 2s/step - loss: 0.0678 - acc: 0.9771 - val_loss: 1.3760 - val_acc: 0.7163\n",
      "Epoch 27/30\n",
      "128/128 [==============================] - 229s 2s/step - loss: 0.0684 - acc: 0.9741 - val_loss: 1.2115 - val_acc: 0.7103\n",
      "Epoch 28/30\n",
      "128/128 [==============================] - 230s 2s/step - loss: 0.0620 - acc: 0.9800 - val_loss: 1.4066 - val_acc: 0.7248\n",
      "Epoch 29/30\n",
      "128/128 [==============================] - 229s 2s/step - loss: 0.0533 - acc: 0.9814 - val_loss: 1.5507 - val_acc: 0.7127\n",
      "Epoch 30/30\n",
      "128/128 [==============================] - 230s 2s/step - loss: 0.0557 - acc: 0.9814 - val_loss: 1.4449 - val_acc: 0.7296\n"
     ]
    },
    {
     "data": {
      "text/plain": [
       "<keras.callbacks.History at 0x7f79d38decc0>"
      ]
     },
     "execution_count": 14,
     "metadata": {},
     "output_type": "execute_result"
    }
   ],
   "source": [
    "model.fit_generator(train_generator,samples_per_epoch=nb_train_samples,nb_epoch=nb_epoch,validation_data=validation_generator,nb_val_samples=nb_validation_samples)"
   ]
  },
  {
   "cell_type": "code",
   "execution_count": null,
   "metadata": {},
   "outputs": [],
   "source": []
  }
 ],
 "metadata": {
  "kernelspec": {
   "display_name": "Python 3",
   "language": "python",
   "name": "python3"
  },
  "language_info": {
   "codemirror_mode": {
    "name": "ipython",
    "version": 3
   },
   "file_extension": ".py",
   "mimetype": "text/x-python",
   "name": "python",
   "nbconvert_exporter": "python",
   "pygments_lexer": "ipython3",
   "version": "3.6.5"
  }
 },
 "nbformat": 4,
 "nbformat_minor": 2
}
